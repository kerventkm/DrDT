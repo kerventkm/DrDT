{
 "cells": [
  {
   "cell_type": "code",
   "execution_count": 1,
   "id": "f24488bc",
   "metadata": {},
   "outputs": [],
   "source": [
    "from importlib import resources\n",
    "import pandas as pd\n",
    "\n",
    "from drdt.algorithms import A_C_N, A_C_G, DynamicProgrammingAlgorithms"
   ]
  },
  {
   "cell_type": "code",
   "execution_count": 2,
   "id": "fab4942c",
   "metadata": {},
   "outputs": [
    {
     "ename": "ModuleNotFoundError",
     "evalue": "No module named 'drdt.datasets'",
     "output_type": "error",
     "traceback": [
      "\u001b[0;31m---------------------------------------------------------------------------\u001b[0m",
      "\u001b[0;31mModuleNotFoundError\u001b[0m                       Traceback (most recent call last)",
      "Input \u001b[0;32mIn [2]\u001b[0m, in \u001b[0;36m<cell line: 1>\u001b[0;34m()\u001b[0m\n\u001b[0;32m----> 1\u001b[0m \u001b[38;5;28;01mimport\u001b[39;00m \u001b[38;5;21;01mdrdt\u001b[39;00m\u001b[38;5;21;01m.\u001b[39;00m\u001b[38;5;21;01mdatasets\u001b[39;00m\n",
      "\u001b[0;31mModuleNotFoundError\u001b[0m: No module named 'drdt.datasets'"
     ]
    }
   ],
   "source": [
    "import drdt.datasets"
   ]
  },
  {
   "cell_type": "code",
   "execution_count": null,
   "id": "0e0bf869",
   "metadata": {},
   "outputs": [],
   "source": [
    "with resources.path('drdt.datasets.DecisionRuleSystems', 'DRS_breast_cancer.csv') as dataset_path:\n",
    "    S = pd.read_csv(dataset_path)   \n",
    "S"
   ]
  },
  {
   "cell_type": "code",
   "execution_count": null,
   "id": "a6702e8e",
   "metadata": {},
   "outputs": [],
   "source": [
    "alg = DynamicProgrammingAlgorithms(C=\"SR\")"
   ]
  },
  {
   "cell_type": "code",
   "execution_count": null,
   "id": "3ffad308",
   "metadata": {},
   "outputs": [],
   "source": [
    "depth = alg.A_DP(S)\n",
    "depth"
   ]
  },
  {
   "cell_type": "code",
   "execution_count": null,
   "id": "8591e553",
   "metadata": {},
   "outputs": [],
   "source": []
  }
 ],
 "metadata": {
  "kernelspec": {
   "display_name": "Python 3 (ipykernel)",
   "language": "python",
   "name": "python3"
  },
  "language_info": {
   "codemirror_mode": {
    "name": "ipython",
    "version": 3
   },
   "file_extension": ".py",
   "mimetype": "text/x-python",
   "name": "python",
   "nbconvert_exporter": "python",
   "pygments_lexer": "ipython3",
   "version": "3.9.12"
  }
 },
 "nbformat": 4,
 "nbformat_minor": 5
}

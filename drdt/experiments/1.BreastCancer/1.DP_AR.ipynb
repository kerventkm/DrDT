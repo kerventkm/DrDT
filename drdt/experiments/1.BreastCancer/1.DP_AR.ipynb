{
 "cells": [
  {
   "cell_type": "code",
   "execution_count": 1,
   "id": "f24488bc",
   "metadata": {},
   "outputs": [],
   "source": [
    "from importlib import resources\n",
    "import pandas as pd\n",
    "\n",
    "from drdt.algorithms import A_C_N, A_C_G, DynamicProgrammingAlgorithms"
   ]
  },
  {
   "cell_type": "code",
   "execution_count": 3,
   "id": "fab4942c",
   "metadata": {},
   "outputs": [],
   "source": [
    "import datasets"
   ]
  },
  {
   "cell_type": "code",
   "execution_count": 4,
   "id": "0e0bf869",
   "metadata": {},
   "outputs": [
    {
     "ename": "FileNotFoundError",
     "evalue": "[Errno 2] No such file or directory: '/Users/durdymk/Desktop/DrDT/datasets/DecisionRuleSystems/DRS_breast_cancer.csv'",
     "output_type": "error",
     "traceback": [
      "\u001b[0;31m---------------------------------------------------------------------------\u001b[0m",
      "\u001b[0;31mFileNotFoundError\u001b[0m                         Traceback (most recent call last)",
      "Input \u001b[0;32mIn [4]\u001b[0m, in \u001b[0;36m<cell line: 1>\u001b[0;34m()\u001b[0m\n\u001b[0;32m----> 1\u001b[0m \u001b[38;5;28;01mwith\u001b[39;00m resources\u001b[38;5;241m.\u001b[39mpath(\u001b[38;5;124m'\u001b[39m\u001b[38;5;124mdatasets.DecisionRuleSystems\u001b[39m\u001b[38;5;124m'\u001b[39m, \u001b[38;5;124m'\u001b[39m\u001b[38;5;124mDRS_breast_cancer.csv\u001b[39m\u001b[38;5;124m'\u001b[39m) \u001b[38;5;28;01mas\u001b[39;00m dataset_path:\n\u001b[1;32m      2\u001b[0m     S \u001b[38;5;241m=\u001b[39m pd\u001b[38;5;241m.\u001b[39mread_csv(dataset_path)   \n\u001b[1;32m      3\u001b[0m S\n",
      "File \u001b[0;32m~/opt/anaconda3/lib/python3.9/contextlib.py:119\u001b[0m, in \u001b[0;36m_GeneratorContextManager.__enter__\u001b[0;34m(self)\u001b[0m\n\u001b[1;32m    117\u001b[0m \u001b[38;5;28;01mdel\u001b[39;00m \u001b[38;5;28mself\u001b[39m\u001b[38;5;241m.\u001b[39margs, \u001b[38;5;28mself\u001b[39m\u001b[38;5;241m.\u001b[39mkwds, \u001b[38;5;28mself\u001b[39m\u001b[38;5;241m.\u001b[39mfunc\n\u001b[1;32m    118\u001b[0m \u001b[38;5;28;01mtry\u001b[39;00m:\n\u001b[0;32m--> 119\u001b[0m     \u001b[38;5;28;01mreturn\u001b[39;00m \u001b[38;5;28;43mnext\u001b[39;49m\u001b[43m(\u001b[49m\u001b[38;5;28;43mself\u001b[39;49m\u001b[38;5;241;43m.\u001b[39;49m\u001b[43mgen\u001b[49m\u001b[43m)\u001b[49m\n\u001b[1;32m    120\u001b[0m \u001b[38;5;28;01mexcept\u001b[39;00m \u001b[38;5;167;01mStopIteration\u001b[39;00m:\n\u001b[1;32m    121\u001b[0m     \u001b[38;5;28;01mraise\u001b[39;00m \u001b[38;5;167;01mRuntimeError\u001b[39;00m(\u001b[38;5;124m\"\u001b[39m\u001b[38;5;124mgenerator didn\u001b[39m\u001b[38;5;124m'\u001b[39m\u001b[38;5;124mt yield\u001b[39m\u001b[38;5;124m\"\u001b[39m) \u001b[38;5;28;01mfrom\u001b[39;00m \u001b[38;5;28mNone\u001b[39m\n",
      "File \u001b[0;32m~/opt/anaconda3/lib/python3.9/importlib/resources.py:175\u001b[0m, in \u001b[0;36m_path_from_reader\u001b[0;34m(reader, resource)\u001b[0m\n\u001b[1;32m    173\u001b[0m     \u001b[38;5;28;01myield\u001b[39;00m Path(reader\u001b[38;5;241m.\u001b[39mresource_path(norm_resource))\n\u001b[1;32m    174\u001b[0m     \u001b[38;5;28;01mreturn\u001b[39;00m\n\u001b[0;32m--> 175\u001b[0m opener_reader \u001b[38;5;241m=\u001b[39m \u001b[43mreader\u001b[49m\u001b[38;5;241;43m.\u001b[39;49m\u001b[43mopen_resource\u001b[49m\u001b[43m(\u001b[49m\u001b[43mnorm_resource\u001b[49m\u001b[43m)\u001b[49m\n\u001b[1;32m    176\u001b[0m \u001b[38;5;28;01mwith\u001b[39;00m _common\u001b[38;5;241m.\u001b[39m_tempfile(opener_reader\u001b[38;5;241m.\u001b[39mread, suffix\u001b[38;5;241m=\u001b[39mnorm_resource) \u001b[38;5;28;01mas\u001b[39;00m res:\n\u001b[1;32m    177\u001b[0m     \u001b[38;5;28;01myield\u001b[39;00m res\n",
      "File \u001b[0;32m<frozen importlib._bootstrap_external>:1055\u001b[0m, in \u001b[0;36mopen_resource\u001b[0;34m(self, resource)\u001b[0m\n",
      "\u001b[0;31mFileNotFoundError\u001b[0m: [Errno 2] No such file or directory: '/Users/durdymk/Desktop/DrDT/datasets/DecisionRuleSystems/DRS_breast_cancer.csv'"
     ]
    }
   ],
   "source": [
    "with resources.path('datasets.DecisionRuleSystems', 'DRS_breast_cancer.csv') as dataset_path:\n",
    "    S = pd.read_csv(dataset_path)   \n",
    "S"
   ]
  },
  {
   "cell_type": "code",
   "execution_count": null,
   "id": "a6702e8e",
   "metadata": {},
   "outputs": [],
   "source": [
    "alg = DynamicProgrammingAlgorithms(C=\"SR\")"
   ]
  },
  {
   "cell_type": "code",
   "execution_count": null,
   "id": "3ffad308",
   "metadata": {},
   "outputs": [],
   "source": [
    "depth = alg.A_DP(S)\n",
    "depth"
   ]
  },
  {
   "cell_type": "code",
   "execution_count": null,
   "id": "8591e553",
   "metadata": {},
   "outputs": [],
   "source": []
  }
 ],
 "metadata": {
  "kernelspec": {
   "display_name": "Python 3 (ipykernel)",
   "language": "python",
   "name": "python3"
  },
  "language_info": {
   "codemirror_mode": {
    "name": "ipython",
    "version": 3
   },
   "file_extension": ".py",
   "mimetype": "text/x-python",
   "name": "python",
   "nbconvert_exporter": "python",
   "pygments_lexer": "ipython3",
   "version": "3.9.12"
  }
 },
 "nbformat": 4,
 "nbformat_minor": 5
}

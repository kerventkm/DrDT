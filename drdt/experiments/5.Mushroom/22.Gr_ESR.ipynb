{
 "cells": [
  {
   "cell_type": "code",
   "execution_count": null,
   "id": "3f71dacf",
   "metadata": {},
   "outputs": [],
   "source": [
    "import itertools\n",
    "import pandas as pd\n",
    "from importlib import resources\n",
    "from tqdm import tqdm\n",
    "\n",
    "from drdt.algorithms import A_C_G"
   ]
  },
  {
   "cell_type": "code",
   "execution_count": null,
   "id": "888cf6dc",
   "metadata": {},
   "outputs": [],
   "source": [
    "with resources.path('datasets.DecisionRuleSystems', 'DRS_mushroom') as dataset_path:\n",
    "    S = pd.read_csv(dataset_path)   \n",
    "S"
   ]
  },
  {
   "cell_type": "code",
   "execution_count": null,
   "id": "1748e11a",
   "metadata": {},
   "outputs": [],
   "source": [
    "res = 1\n",
    "\n",
    "for col in S.columns[:-1]:\n",
    "    res *= len(S[col].unique())\n",
    "    \n",
    "print(\"number of possible combinations =\", res)"
   ]
  },
  {
   "cell_type": "code",
   "execution_count": null,
   "id": "04f4fd3f",
   "metadata": {},
   "outputs": [],
   "source": [
    "# Possible values for each featue\n",
    "cap_shape_values = ['s', 'f', 'b', 'x', 'c', 'k', '*']\n",
    "cap_surface_values = ['f', 'y', 'g', '*']\n",
    "cap_color_values = ['g', 'n', 'e', 'w', 'y', 'u', 'c', 'r', 'b', 'p', '*']\n",
    "bruises_values = ['f', 't', '*'] \n",
    "odor_values = ['p', 'a', 'l', 'n', 'f', 'c', 'y', 's', 'm', '*']\n",
    "gill_spacing_values = ['w', '*']\n",
    "gill_size_values = ['b', 'n', '*']\n",
    "gill_color_values = ['k', 'n', 'p', 'u', 'e', 'r', 'o', '*']\n",
    "stalk_shape_values = ['t', '*']\n",
    "stalk_root_values = ['e', 'b', '*']\n",
    "stalk_surface_above_ring_values = ['f', '*']\n",
    "stalk_color_above_ring_values = ['g', '*']\n",
    "stalk_color_below_ring_values = ['g', '*']\n",
    "spore_print_color_values = ['n', 'k', 'r', '*']\n",
    "population_values = ['a', '*']\n",
    "\n",
    "\n",
    "# All possible combinations\n",
    "combinations = list(itertools.product(cap_shape_values, \n",
    "                                      cap_surface_values, \n",
    "                                      cap_color_values, \n",
    "                                      bruises_values, \n",
    "                                      odor_values, \n",
    "                                      gill_spacing_values,\n",
    "                                      gill_size_values,\n",
    "                                      gill_color_values,\n",
    "                                      stalk_shape_values,\n",
    "                                      stalk_root_values,\n",
    "                                      stalk_surface_above_ring_values,\n",
    "                                      stalk_color_above_ring_values,\n",
    "                                      stalk_color_below_ring_values,\n",
    "                                      spore_print_color_values,\n",
    "                                      population_values))\n"
   ]
  },
  {
   "cell_type": "code",
   "execution_count": null,
   "id": "204fea4b",
   "metadata": {},
   "outputs": [],
   "source": [
    "depths = []\n",
    "\n",
    "for comb in tqdm(combinations):\n",
    "    #creating delta\n",
    "    delta = pd.DataFrame(\n",
    "    [[comb[0], comb[1], comb[2], comb[3], comb[4], comb[5], comb[6], comb[7], comb[8], comb[9], comb[10], comb[11], comb[12], comb[13], comb[14]]],\n",
    "    columns=['cap-shape',\n",
    "             'cap-surface',\n",
    "             'cap-color',\n",
    "             'bruises', \n",
    "             'odor', \n",
    "             'gill-spacing',\n",
    "             'gill-size',\n",
    "             'gill-color',\n",
    "             'stalk-shape',\n",
    "             'stalk-root',\n",
    "             'stalk-surface-above-ring',\n",
    "             'stalk-color-above-ring',\n",
    "             'stalk-color-below-ring',\n",
    "             'spore-print-color',\n",
    "             'population'])\n",
    "    \n",
    "    delta = delta.loc[0]\n",
    "    \n",
    "    alg = A_C_G(C=\"ESR\")\n",
    "    \n",
    "    depth, _ = alg.solve(S, delta=delta)\n",
    "    \n",
    "    depths.append(depth)\n",
    "    "
   ]
  },
  {
   "cell_type": "code",
   "execution_count": null,
   "id": "9e1a84cb",
   "metadata": {},
   "outputs": [],
   "source": [
    "print(\"(Max Depth, Min Depth, Average Depth) =\", (max(depths), min(depths), sum(depths)/len(depths)))"
   ]
  },
  {
   "cell_type": "code",
   "execution_count": null,
   "id": "63ffa1f4",
   "metadata": {},
   "outputs": [],
   "source": []
  }
 ],
 "metadata": {
  "kernelspec": {
   "display_name": "Python 3 (ipykernel)",
   "language": "python",
   "name": "python3"
  },
  "language_info": {
   "codemirror_mode": {
    "name": "ipython",
    "version": 3
   },
   "file_extension": ".py",
   "mimetype": "text/x-python",
   "name": "python",
   "nbconvert_exporter": "python",
   "pygments_lexer": "ipython3",
   "version": "3.9.12"
  }
 },
 "nbformat": 4,
 "nbformat_minor": 5
}

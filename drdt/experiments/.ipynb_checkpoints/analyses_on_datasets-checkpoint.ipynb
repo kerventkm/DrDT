{
 "cells": [
  {
   "cell_type": "code",
   "execution_count": 1,
   "id": "182ed196",
   "metadata": {},
   "outputs": [],
   "source": [
    "from drdt.helper_functions import Reduction, R_SR, R_AD, SAlphaStep, SPlus, SMax, NCover, NGreedy\n",
    "from importlib import resources\n",
    "import pandas as pd"
   ]
  },
  {
   "cell_type": "code",
   "execution_count": null,
   "id": "a017916e",
   "metadata": {},
   "outputs": [],
   "source": [
    "datasets = [\"DRS_breast_cancer\", \n",
    "            \"DRS_car_evaluation\",\n",
    "            \"DRS_congressional_voting_records\",\n",
    "            \"DRS_tic-tac-toe\",   \n",
    "            \"DRS_mushroom\", \n",
    "            \"DRS_balance_scale\"]"
   ]
  },
  {
   "cell_type": "code",
   "execution_count": null,
   "id": "ceb0d3b8",
   "metadata": {},
   "outputs": [],
   "source": [
    "# Cover Greedy\n",
    "for dataset in datasets:\n",
    "    with resources.path('datasets.DecisionRuleSystems', dataset) as dataset_path:\n",
    "        S = pd.read_csv(dataset_path)\n",
    "#         P = S\n",
    "#         P = R_SR(S)\n",
    "        P = R_AD(S)\n",
    "        P_plus = SPlus(P)\n",
    "        B = NGreedy(P_plus)\n",
    "        print(f\"Length of Node Cover {dataset} = {len(B)}\")"
   ]
  },
  {
   "cell_type": "code",
   "execution_count": null,
   "id": "9c9852d3",
   "metadata": {},
   "outputs": [],
   "source": [
    "# Cover\n",
    "for dataset in datasets:\n",
    "    with resources.path('datasets.DecisionRuleSystems', dataset) as dataset_path:\n",
    "        S = pd.read_csv(dataset_path) \n",
    "#         P = S\n",
    "#         P = R_SR(S)\n",
    "        P = R_AD(S)\n",
    "        P_plus = SPlus(P)\n",
    "        B = NCover(P_plus)\n",
    "        print(f\"Length of Node Cover {dataset} = {len(B)}\")\n"
   ]
  },
  {
   "cell_type": "code",
   "execution_count": null,
   "id": "1c83238a",
   "metadata": {},
   "outputs": [],
   "source": [
    "# number of features\n",
    "for dataset in datasets:\n",
    "    with resources.path('datasets.DecisionRuleSystems', dataset) as dataset_path:\n",
    "        S = pd.read_csv(dataset_path)\n",
    "        print(f\"Number of features of {dataset} = {len(S.columns)-1}\")\n",
    "        "
   ]
  },
  {
   "cell_type": "code",
   "execution_count": null,
   "id": "5e86cdb3",
   "metadata": {},
   "outputs": [],
   "source": [
    "# Does max length = # of features\n",
    "for dataset in datasets:\n",
    "    with resources.path('datasets.DecisionRuleSystems', dataset) as dataset_path:\n",
    "        S = pd.read_csv(dataset_path)\n",
    "        print(f\"Does # of features = d of {dataset} = {not S.dropna().empty}\")"
   ]
  },
  {
   "cell_type": "code",
   "execution_count": null,
   "id": "df4306c9",
   "metadata": {},
   "outputs": [],
   "source": [
    "# Calculating d\n",
    "for dataset in datasets:\n",
    "    with resources.path('datasets.DecisionRuleSystems', dataset) as dataset_path:\n",
    "        S = pd.read_csv(dataset_path)\n",
    "\n",
    "    # Count non-NaN values for each row\n",
    "    non_nan_counts = S.count(axis=1)\n",
    "\n",
    "    # Find the index\n",
    "    max_non_nan_row_index = non_nan_counts.idxmax()\n",
    "\n",
    "    # Retrieve the row\n",
    "    max_non_nan_row = S.loc[max_non_nan_row_index]\n",
    "\n",
    "    # Number of non-NaN values in the row\n",
    "    max_non_nan_count = non_nan_counts[max_non_nan_row_index]\n",
    "\n",
    "    print(f\"Does  d of {dataset} = {max_non_nan_count - 1}\") # remove 1 because of last class column"
   ]
  },
  {
   "cell_type": "code",
   "execution_count": null,
   "id": "c3bd7713",
   "metadata": {},
   "outputs": [],
   "source": []
  }
 ],
 "metadata": {
  "kernelspec": {
   "display_name": "Python 3 (ipykernel)",
   "language": "python",
   "name": "python3"
  },
  "language_info": {
   "codemirror_mode": {
    "name": "ipython",
    "version": 3
   },
   "file_extension": ".py",
   "mimetype": "text/x-python",
   "name": "python",
   "nbconvert_exporter": "python",
   "pygments_lexer": "ipython3",
   "version": "3.9.12"
  }
 },
 "nbformat": 4,
 "nbformat_minor": 5
}
